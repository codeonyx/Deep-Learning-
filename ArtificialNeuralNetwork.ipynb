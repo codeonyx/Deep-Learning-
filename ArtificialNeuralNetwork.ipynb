{
  "nbformat": 4,
  "nbformat_minor": 0,
  "metadata": {
    "colab": {
      "name": "ArtificialNeuralNetwork.ipynb",
      "version": "0.3.2",
      "provenance": [],
      "private_outputs": true,
      "collapsed_sections": [],
      "include_colab_link": true
    },
    "kernelspec": {
      "name": "python3",
      "display_name": "Python 3"
    },
    "accelerator": "GPU"
  },
  "cells": [
    {
      "cell_type": "markdown",
      "metadata": {
        "id": "view-in-github",
        "colab_type": "text"
      },
      "source": [
        "<a href=\"https://colab.research.google.com/github/rhaegar453/Deep-Learning-/blob/master/ArtificialNeuralNetwork.ipynb\" target=\"_parent\"><img src=\"https://colab.research.google.com/assets/colab-badge.svg\" alt=\"Open In Colab\"/></a>"
      ]
    },
    {
      "metadata": {
        "id": "92ExebuOXuv5",
        "colab_type": "code",
        "colab": {}
      },
      "cell_type": "code",
      "source": [
        "from sklearn.preprocessing import LabelBinarizer\n",
        "from sklearn.model_selection import train_test_split\n",
        "from keras.models import Sequential\n",
        "from keras.layers.core import Dense\n",
        "from keras.optimizers import SGD\n",
        "from keras.datasets import cifar10\n",
        "import matplotlib.pyplot as plt\n",
        "import numpy as np\n",
        "import argparse\n",
        "from sklearn.metrics import classification_report\n",
        "\n",
        "#ap=argparse.ArgumentParser()\n",
        "#ap.add_argument(\"-o\",\"--output\",required=True, help=\"Path to the output loss/accuracy plot\")\n",
        "#args=vars(ap.parse_args())\n",
        "\n",
        "print(\"[INFO] loading CIFAR10 Dataset\")\n",
        "\n",
        "((trainX,trainY), (testX, testY))=cifar10.load_data()\n",
        "\n",
        "trainX=trainX.astype(\"float64\")/255.0\n",
        "testX=testX.astype(\"float64\")/255.0\n",
        "trainX=trainX.reshape((trainX.shape[0], 3072))\n",
        "testX=testX.reshape((testX.shape[0], 3072))\n",
        "\n",
        "lb=LabelBinarizer()\n",
        "trainY=lb.fit_transform(trainY)\n",
        "testY=lb.transform(testY)\n",
        "\n",
        "labelNames=[\"airplane\",\"automobile\",\"bird\",\"cat\",\"deer\",\"dog\",\"frog\",\"horse\",\"ship\",\"truck\"]\n",
        "\n",
        "##Defining the model\n",
        "model=Sequential()\n",
        "model.add(Dense(1024, input_shape=(3072,), activation=\"relu\"))\n",
        "model.add(Dense(512, activation=\"relu\"))\n",
        "model.add(Dense(10,activation=\"softmax\"))\n",
        "\n",
        "\n",
        "print(\"[INFO] training network...\")\n",
        "sgd=SGD(0.01)\n",
        "model.compile(loss=\"categorical_crossentropy\", optimizer=sgd, metrics=[\"accuracy\"])\n",
        "H=model.fit(trainX, trainY, validation_data=(testX, testY), epochs=100, batch_size=32)\n",
        "print(\"[INFO] evaluating network...\")\n",
        "predictions=model.predict(testX,batch_size=32)\n",
        "print(classification_report(testY.argmax(axis=1), predictions.argmax(axis=1), target_names=labelNames))\n",
        "\n",
        "plt.figure()\n",
        "plt.plot(np.arange(0,100), H.history[\"loss\"], label=\"train_loss\")\n",
        "plt.plot(np.arange(0,100), H.history[\"val_loss\"], label=\"val_loss\")\n",
        "plt.plot(np.arange(0,100), H.history[\"acc\"], label=\"train_acc\")\n",
        "plt.plot(np.arange(0,100), H.history[\"val_acc\"], label=\"val_acc\")\n",
        "plt.title(\"Training Loss and Accuracy\")\n",
        "plt.xlabel(\"Epochs #\")\n",
        "plt.ylabel(\"Loss Accuracy\")\n",
        "plt.legend()\n",
        "plt.savefig('./output.png')\n",
        "\n",
        "\n",
        "model.save('Cifar.h5')"
      ],
      "execution_count": 0,
      "outputs": []
    },
    {
      "metadata": {
        "id": "pyNH74OZYxc_",
        "colab_type": "code",
        "colab": {}
      },
      "cell_type": "code",
      "source": [
        ""
      ],
      "execution_count": 0,
      "outputs": []
    },
    {
      "metadata": {
        "id": "WrkxbQwsY8Zs",
        "colab_type": "code",
        "colab": {}
      },
      "cell_type": "code",
      "source": [
        ""
      ],
      "execution_count": 0,
      "outputs": []
    }
  ]
}
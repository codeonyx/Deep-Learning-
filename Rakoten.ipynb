{
  "nbformat": 4,
  "nbformat_minor": 0,
  "metadata": {
    "colab": {
      "name": "Untitled0.ipynb",
      "version": "0.3.2",
      "provenance": [],
      "collapsed_sections": [],
      "include_colab_link": true
    },
    "kernelspec": {
      "name": "python3",
      "display_name": "Python 3"
    },
    "accelerator": "TPU"
  },
  "cells": [
    {
      "cell_type": "markdown",
      "metadata": {
        "id": "view-in-github",
        "colab_type": "text"
      },
      "source": [
        "<a href=\"https://colab.research.google.com/github/rhaegar453/Deep-Learning-/blob/master/Rakoten.ipynb\" target=\"_parent\"><img src=\"https://colab.research.google.com/assets/colab-badge.svg\" alt=\"Open In Colab\"/></a>"
      ]
    },
    {
      "metadata": {
        "id": "k2NJh-Nsp-Ia",
        "colab_type": "code",
        "colab": {}
      },
      "cell_type": "code",
      "source": [
        "import urllib.request"
      ],
      "execution_count": 0,
      "outputs": []
    },
    {
      "metadata": {
        "id": "smk2vWTsqn37",
        "colab_type": "code",
        "colab": {
          "base_uri": "https://localhost:8080/",
          "height": 34
        },
        "outputId": "d588ba92-5738-4008-a851-b4bebcd8dc8a"
      },
      "cell_type": "code",
      "source": [
        "url='https://public.boxcloud.com/d/1/b1!MfRjnpQa0oLYzpEU7RDqKtAPtlsJfj847KS_8sgfQX0chsOrdrumrTajzyd_SYPRbY84gCoWBV0fTPLVyskriLclGz2J_0y9NowQx1UxjiuCOBSwMaeuReFe8moJITWvfcNQM9SnUh4sEM3zEINtryyAGS1UsQ6S2WQzhRtAs8ifeFx4qroTtknajt1DyaUbSJV6pUi_VT6PX6cd4hvEwSZsXDXzS-T2n0KctFFcDlJkO2Sfj2RKHGXYiLBhcGT0sh2KTRJzZKHeOTF7esTAORpfyFuBUekQVSFoLDgWwm5W4S9cw0-Bzo87wXBx56W4rkme6csL3dRtMSlE_Jsuc4XQaa2dyrDtXRaDS70EphSFrqs6unaIsjwgj62x__H3-8M9iaeLtxx0Hvzcl5R6Uvwdcbot5zkELpFVu0e16gAkGq90l4Megoj9tMnzkvBbKKeNbbBtgyB_xfMXXRB9wVdYqb9TdbKLXh4ifDVqhbF5geD7RPcM7HzFiWeKRWR_yIuf1rQZyqTROCGOhPXFCFH_9-V6JMk37b_Vy4b3k9U2sYDgOX7P88t24Yv_4xeATRSL8aS96wRsAMzZD7OAVOfbiuIKFk7udBevF1kfWqdM9wwBeqsY0dRNSiXP5As2cUdUynTnQfMmht9Hu6HIX7zY8_uemjRmbLJYnPL6DGQsmGTjwtJqpRwaWd4e14FOJYUtLVzpZgYOzzwJEtC_oVvFiCWDxS6W20nuyFzZr7eys_3hsEkp9LzKqMe9YMBT_SUCpP8Ekjr0nWHmgr-upjl23TT9X39VFWfhXh1jFJQecxU6hHn4LitsMFb6H9lzLcKOTDkiQSk9b-R5YHFiB4Y-j1nSk2NHcOO-wVPZfkSiWopOVEtRtrATt5Ly61aqaZhcf36d9tw1Su0_X8TCVCZAdzDRuKYfzQ2YOHFF9MH6hxb2_odH4tyHDjlGyRN15S_LBg1v-hLPtEB1X4AxbAV1eA5toIzEMy75fuCF1loaoD7Rtz6XodQyKTvz2rc59I2SdneMRFZdw51IENCfLEdlvMsCTHOcF1FDiWzPboSQ2Ji6xRh98D6BJKjR8ERusV__ku7AJs_JkuvkYS1yTkQHE5VuywfFV8Z5bxnsyFMfuueXSV0EN2-c8EOtlcCGcpzDaigxvyHlUmNF2k2F6iw9XY4WdcbyK_2TAfhjWq9roojpc0VjkR0pMl33fmTFGfN-8mGdNp2dPtetzCwUd5ontXJoq5JpZIMLhNrITxgNa13w4UugGX04rrOjvBHoyhiaVCXuGt2AtFM./download'\n",
        "urllib.request.urlretrieve(url,'dataset.tar.gz')\n"
      ],
      "execution_count": 2,
      "outputs": [
        {
          "output_type": "execute_result",
          "data": {
            "text/plain": [
              "('dataset.tar.gz', <http.client.HTTPMessage at 0x7fd641fdf240>)"
            ]
          },
          "metadata": {
            "tags": []
          },
          "execution_count": 2
        }
      ]
    },
    {
      "metadata": {
        "id": "RYwS7yIg8adX",
        "colab_type": "code",
        "colab": {
          "base_uri": "https://localhost:8080/",
          "height": 34
        },
        "outputId": "0ac89546-e765-4387-a3ce-43d4e939838e"
      },
      "cell_type": "code",
      "source": [
        "import tarfile\n",
        "import os\n",
        "print(os.listdir())"
      ],
      "execution_count": 3,
      "outputs": [
        {
          "output_type": "stream",
          "text": [
            "['.config', 'sample_data', 'dataset.tar.gz']\n"
          ],
          "name": "stdout"
        }
      ]
    },
    {
      "metadata": {
        "id": "H3txjWzr9vaL",
        "colab_type": "code",
        "colab": {}
      },
      "cell_type": "code",
      "source": [
        "tar=tarfile.open('./dataset.tar.gz')\n",
        "tar.extractall()"
      ],
      "execution_count": 0,
      "outputs": []
    },
    {
      "metadata": {
        "id": "sS8S3tnR9yKR",
        "colab_type": "code",
        "colab": {
          "base_uri": "https://localhost:8080/",
          "height": 34
        },
        "outputId": "52340ac0-85e8-43c2-fe4b-7148d3fffa86"
      },
      "cell_type": "code",
      "source": [
        "print(os.listdir())"
      ],
      "execution_count": 5,
      "outputs": [
        {
          "output_type": "stream",
          "text": [
            "['.config', 'sample_data', 'dataset.tar.gz', 'training-data']\n"
          ],
          "name": "stdout"
        }
      ]
    },
    {
      "metadata": {
        "id": "AQZ1eiDpDP2V",
        "colab_type": "code",
        "colab": {}
      },
      "cell_type": "code",
      "source": [
        ""
      ],
      "execution_count": 0,
      "outputs": []
    }
  ]
}